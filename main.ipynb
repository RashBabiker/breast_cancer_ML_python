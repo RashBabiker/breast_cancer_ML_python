{
 "cells": [
  {
   "attachments": {},
   "cell_type": "markdown",
   "metadata": {},
   "source": [
    "# Libraries"
   ]
  },
  {
   "cell_type": "code",
   "execution_count": 1,
   "metadata": {},
   "outputs": [],
   "source": [
    "import os\n",
    "import numpy as np\n",
    "import pandas as pd\n",
    "import seaborn as sns\n",
    "# train test split\n",
    "from sklearn.model_selection import train_test_split\n",
    "import utils\n",
    "\n",
    "from sklearn.model_selection import GridSearchCV\n",
    "from sklearn.metrics import make_scorer, recall_score\n",
    "\n",
    "from sklearn.neighbors import KNeighborsClassifier\n",
    "from sklearn.ensemble import RandomForestClassifier\n",
    "from sklearn.svm import SVC\n",
    "\n",
    "import matplotlib.pyplot as plt"
   ]
  },
  {
   "attachments": {},
   "cell_type": "markdown",
   "metadata": {},
   "source": [
    "# Read data"
   ]
  },
  {
   "cell_type": "code",
   "execution_count": 2,
   "metadata": {},
   "outputs": [
    {
     "data": {
      "text/html": [
       "<div>\n",
       "<style scoped>\n",
       "    .dataframe tbody tr th:only-of-type {\n",
       "        vertical-align: middle;\n",
       "    }\n",
       "\n",
       "    .dataframe tbody tr th {\n",
       "        vertical-align: top;\n",
       "    }\n",
       "\n",
       "    .dataframe thead th {\n",
       "        text-align: right;\n",
       "    }\n",
       "</style>\n",
       "<table border=\"1\" class=\"dataframe\">\n",
       "  <thead>\n",
       "    <tr style=\"text-align: right;\">\n",
       "      <th></th>\n",
       "      <th>radius_mean</th>\n",
       "      <th>texture_mean</th>\n",
       "      <th>perimeter_mean</th>\n",
       "      <th>area_mean</th>\n",
       "      <th>smoothness_mean</th>\n",
       "      <th>compactness_mean</th>\n",
       "      <th>concavity_mean</th>\n",
       "      <th>concave.points_mean</th>\n",
       "      <th>symmetry_mean</th>\n",
       "      <th>fractal_dimension_mean</th>\n",
       "      <th>...</th>\n",
       "      <th>texture_worst</th>\n",
       "      <th>perimeter_worst</th>\n",
       "      <th>area_worst</th>\n",
       "      <th>smoothness_worst</th>\n",
       "      <th>compactness_worst</th>\n",
       "      <th>concavity_worst</th>\n",
       "      <th>concave.points_worst</th>\n",
       "      <th>symmetry_worst</th>\n",
       "      <th>fractal_dimension_worst</th>\n",
       "      <th>diagnosis</th>\n",
       "    </tr>\n",
       "    <tr>\n",
       "      <th>id</th>\n",
       "      <th></th>\n",
       "      <th></th>\n",
       "      <th></th>\n",
       "      <th></th>\n",
       "      <th></th>\n",
       "      <th></th>\n",
       "      <th></th>\n",
       "      <th></th>\n",
       "      <th></th>\n",
       "      <th></th>\n",
       "      <th></th>\n",
       "      <th></th>\n",
       "      <th></th>\n",
       "      <th></th>\n",
       "      <th></th>\n",
       "      <th></th>\n",
       "      <th></th>\n",
       "      <th></th>\n",
       "      <th></th>\n",
       "      <th></th>\n",
       "      <th></th>\n",
       "    </tr>\n",
       "  </thead>\n",
       "  <tbody>\n",
       "    <tr>\n",
       "      <th>842302</th>\n",
       "      <td>17.99</td>\n",
       "      <td>10.38</td>\n",
       "      <td>122.80</td>\n",
       "      <td>1001.0</td>\n",
       "      <td>0.11840</td>\n",
       "      <td>0.27760</td>\n",
       "      <td>0.3001</td>\n",
       "      <td>0.14710</td>\n",
       "      <td>0.2419</td>\n",
       "      <td>0.07871</td>\n",
       "      <td>...</td>\n",
       "      <td>17.33</td>\n",
       "      <td>184.60</td>\n",
       "      <td>2019.0</td>\n",
       "      <td>0.1622</td>\n",
       "      <td>0.6656</td>\n",
       "      <td>0.7119</td>\n",
       "      <td>0.2654</td>\n",
       "      <td>0.4601</td>\n",
       "      <td>0.11890</td>\n",
       "      <td>M</td>\n",
       "    </tr>\n",
       "    <tr>\n",
       "      <th>842517</th>\n",
       "      <td>20.57</td>\n",
       "      <td>17.77</td>\n",
       "      <td>132.90</td>\n",
       "      <td>1326.0</td>\n",
       "      <td>0.08474</td>\n",
       "      <td>0.07864</td>\n",
       "      <td>0.0869</td>\n",
       "      <td>0.07017</td>\n",
       "      <td>0.1812</td>\n",
       "      <td>0.05667</td>\n",
       "      <td>...</td>\n",
       "      <td>23.41</td>\n",
       "      <td>158.80</td>\n",
       "      <td>1956.0</td>\n",
       "      <td>0.1238</td>\n",
       "      <td>0.1866</td>\n",
       "      <td>0.2416</td>\n",
       "      <td>0.1860</td>\n",
       "      <td>0.2750</td>\n",
       "      <td>0.08902</td>\n",
       "      <td>M</td>\n",
       "    </tr>\n",
       "    <tr>\n",
       "      <th>84300903</th>\n",
       "      <td>19.69</td>\n",
       "      <td>21.25</td>\n",
       "      <td>130.00</td>\n",
       "      <td>1203.0</td>\n",
       "      <td>0.10960</td>\n",
       "      <td>0.15990</td>\n",
       "      <td>0.1974</td>\n",
       "      <td>0.12790</td>\n",
       "      <td>0.2069</td>\n",
       "      <td>0.05999</td>\n",
       "      <td>...</td>\n",
       "      <td>25.53</td>\n",
       "      <td>152.50</td>\n",
       "      <td>1709.0</td>\n",
       "      <td>0.1444</td>\n",
       "      <td>0.4245</td>\n",
       "      <td>0.4504</td>\n",
       "      <td>0.2430</td>\n",
       "      <td>0.3613</td>\n",
       "      <td>0.08758</td>\n",
       "      <td>M</td>\n",
       "    </tr>\n",
       "    <tr>\n",
       "      <th>84348301</th>\n",
       "      <td>11.42</td>\n",
       "      <td>20.38</td>\n",
       "      <td>77.58</td>\n",
       "      <td>386.1</td>\n",
       "      <td>0.14250</td>\n",
       "      <td>0.28390</td>\n",
       "      <td>0.2414</td>\n",
       "      <td>0.10520</td>\n",
       "      <td>0.2597</td>\n",
       "      <td>0.09744</td>\n",
       "      <td>...</td>\n",
       "      <td>26.50</td>\n",
       "      <td>98.87</td>\n",
       "      <td>567.7</td>\n",
       "      <td>0.2098</td>\n",
       "      <td>0.8663</td>\n",
       "      <td>0.6869</td>\n",
       "      <td>0.2575</td>\n",
       "      <td>0.6638</td>\n",
       "      <td>0.17300</td>\n",
       "      <td>M</td>\n",
       "    </tr>\n",
       "    <tr>\n",
       "      <th>84358402</th>\n",
       "      <td>20.29</td>\n",
       "      <td>14.34</td>\n",
       "      <td>135.10</td>\n",
       "      <td>1297.0</td>\n",
       "      <td>0.10030</td>\n",
       "      <td>0.13280</td>\n",
       "      <td>0.1980</td>\n",
       "      <td>0.10430</td>\n",
       "      <td>0.1809</td>\n",
       "      <td>0.05883</td>\n",
       "      <td>...</td>\n",
       "      <td>16.67</td>\n",
       "      <td>152.20</td>\n",
       "      <td>1575.0</td>\n",
       "      <td>0.1374</td>\n",
       "      <td>0.2050</td>\n",
       "      <td>0.4000</td>\n",
       "      <td>0.1625</td>\n",
       "      <td>0.2364</td>\n",
       "      <td>0.07678</td>\n",
       "      <td>M</td>\n",
       "    </tr>\n",
       "  </tbody>\n",
       "</table>\n",
       "<p>5 rows × 31 columns</p>\n",
       "</div>"
      ],
      "text/plain": [
       "          radius_mean  texture_mean  perimeter_mean  area_mean  \\\n",
       "id                                                               \n",
       "842302          17.99         10.38          122.80     1001.0   \n",
       "842517          20.57         17.77          132.90     1326.0   \n",
       "84300903        19.69         21.25          130.00     1203.0   \n",
       "84348301        11.42         20.38           77.58      386.1   \n",
       "84358402        20.29         14.34          135.10     1297.0   \n",
       "\n",
       "          smoothness_mean  compactness_mean  concavity_mean  \\\n",
       "id                                                            \n",
       "842302            0.11840           0.27760          0.3001   \n",
       "842517            0.08474           0.07864          0.0869   \n",
       "84300903          0.10960           0.15990          0.1974   \n",
       "84348301          0.14250           0.28390          0.2414   \n",
       "84358402          0.10030           0.13280          0.1980   \n",
       "\n",
       "          concave.points_mean  symmetry_mean  fractal_dimension_mean  ...  \\\n",
       "id                                                                    ...   \n",
       "842302                0.14710         0.2419                 0.07871  ...   \n",
       "842517                0.07017         0.1812                 0.05667  ...   \n",
       "84300903              0.12790         0.2069                 0.05999  ...   \n",
       "84348301              0.10520         0.2597                 0.09744  ...   \n",
       "84358402              0.10430         0.1809                 0.05883  ...   \n",
       "\n",
       "          texture_worst  perimeter_worst  area_worst  smoothness_worst  \\\n",
       "id                                                                       \n",
       "842302            17.33           184.60      2019.0            0.1622   \n",
       "842517            23.41           158.80      1956.0            0.1238   \n",
       "84300903          25.53           152.50      1709.0            0.1444   \n",
       "84348301          26.50            98.87       567.7            0.2098   \n",
       "84358402          16.67           152.20      1575.0            0.1374   \n",
       "\n",
       "          compactness_worst  concavity_worst  concave.points_worst  \\\n",
       "id                                                                   \n",
       "842302               0.6656           0.7119                0.2654   \n",
       "842517               0.1866           0.2416                0.1860   \n",
       "84300903             0.4245           0.4504                0.2430   \n",
       "84348301             0.8663           0.6869                0.2575   \n",
       "84358402             0.2050           0.4000                0.1625   \n",
       "\n",
       "          symmetry_worst  fractal_dimension_worst  diagnosis  \n",
       "id                                                            \n",
       "842302            0.4601                  0.11890          M  \n",
       "842517            0.2750                  0.08902          M  \n",
       "84300903          0.3613                  0.08758          M  \n",
       "84348301          0.6638                  0.17300          M  \n",
       "84358402          0.2364                  0.07678          M  \n",
       "\n",
       "[5 rows x 31 columns]"
      ]
     },
     "execution_count": 2,
     "metadata": {},
     "output_type": "execute_result"
    }
   ],
   "source": [
    "data_path = os.getcwd()+\"\\data\\BreastCancer1.csv\"\n",
    "data = pd.read_csv(data_path, sep=',', header=0, index_col=0)\n",
    "\n",
    "data.head()"
   ]
  },
  {
   "attachments": {},
   "cell_type": "markdown",
   "metadata": {},
   "source": [
    "# Data preprocessing\n"
   ]
  },
  {
   "cell_type": "code",
   "execution_count": 3,
   "metadata": {},
   "outputs": [],
   "source": [
    "## label and features separation\n",
    "\n",
    "diagnosis = data['diagnosis']\n",
    "data = data.drop('diagnosis', axis=1)\n"
   ]
  },
  {
   "attachments": {},
   "cell_type": "markdown",
   "metadata": {},
   "source": [
    "## Remove correlated variables"
   ]
  },
  {
   "cell_type": "code",
   "execution_count": 4,
   "metadata": {},
   "outputs": [
    {
     "data": {
      "image/png": "[encoded data removed]",
      "text/plain": [
       "<Figure size 792x792 with 2 Axes>"
      ]
     },
     "metadata": {
      "needs_background": "light"
     },
     "output_type": "display_data"
    }
   ],
   "source": [
    "# correlation matrix plot\n",
    "utils.correlation(data)"
   ]
  },
  {
   "attachments": {},
   "cell_type": "markdown",
   "metadata": {},
   "source": [
    "Mean and worst variables are correlated, so we can drop the worst variables worst is the worst average value of the 3 largest cells, so it makes sense to be correlated with mean.\n",
    "\n",
    "* Also radious, area and perimeter are correlated, because cells are quite circular.\n",
    "\n",
    "* Concavity, concave_points and compactness are quite correlated as well.\n",
    "\n",
    "* Lets drop correlated columns to avoid colineality that can mess up the hole analysis."
   ]
  },
  {
   "cell_type": "code",
   "execution_count": 5,
   "metadata": {},
   "outputs": [
    {
     "name": "stdout",
     "output_type": "stream",
     "text": [
      "Index(['radius_mean', 'texture_mean', 'smoothness_mean', 'compactness_mean',\n",
      "       'symmetry_mean', 'fractal_dimension_mean', 'radius_se', 'texture_se',\n",
      "       'smoothness_se', 'compactness_se', 'symmetry_se',\n",
      "       'fractal_dimension_se'],\n",
      "      dtype='object')\n"
     ]
    },
    {
     "data": {
      "image/png": "[encoded data removed]",
      "text/plain": [
       "<Figure size 792x792 with 2 Axes>"
      ]
     },
     "metadata": {
      "needs_background": "light"
     },
     "output_type": "display_data"
    }
   ],
   "source": [
    "# search the correlated columns\n",
    "worst_columns = [col for col in data.columns if 'worst' in col]\n",
    "perimeter_area_columns = [col for col in data.columns if 'perimeter' in col or 'area' in col]\n",
    "concavity_columns = [col for col in data.columns if 'concavity_' in col or 'concave.points_' in col]\n",
    "\n",
    "# drop correlated columns\n",
    "drop_columns = worst_columns + perimeter_area_columns + concavity_columns\n",
    "data.drop(drop_columns, axis=1, inplace=True)\n",
    "\n",
    "print(data.columns)\n",
    "utils.correlation(data)"
   ]
  },
  {
   "attachments": {},
   "cell_type": "markdown",
   "metadata": {},
   "source": [
    "# Outliers search\n",
    "\n",
    "In this case I have used the interquartile range method, but there are other less strict methods.\n",
    "\n",
    "These values may distort subsequent analyses, or may be clear indicators of cancer. It would be usefull try the analysis with and without them.\n",
    "\n",
    "To speed up the presentation in this case I will keep the outliers because I do not think it is appropriate to remove the larger cells or cells with larger size deviations, I suspect that they are good indicators that something is wrong."
   ]
  },
  {
   "cell_type": "code",
   "execution_count": 6,
   "metadata": {},
   "outputs": [
    {
     "data": {
      "text/plain": [
       "{'radius_mean': 14,\n",
       " 'texture_mean': 7,\n",
       " 'smoothness_mean': 6,\n",
       " 'compactness_mean': 16,\n",
       " 'symmetry_mean': 15,\n",
       " 'fractal_dimension_mean': 15,\n",
       " 'radius_se': 38,\n",
       " 'texture_se': 20,\n",
       " 'smoothness_se': 30,\n",
       " 'compactness_se': 28,\n",
       " 'symmetry_se': 27,\n",
       " 'fractal_dimension_se': 28}"
      ]
     },
     "execution_count": 6,
     "metadata": {},
     "output_type": "execute_result"
    }
   ],
   "source": [
    "# outliers detection\n",
    "utils.detect_outliers(data)"
   ]
  },
  {
   "attachments": {},
   "cell_type": "markdown",
   "metadata": {},
   "source": [
    "# data normalization?\n",
    "\n"
   ]
  },
  {
   "attachments": {},
   "cell_type": "markdown",
   "metadata": {},
   "source": [
    "I will not normalize the data because doing so would cause the larger values to lose influence on the model. In this case, the larger values appear to be good indicators of cancer."
   ]
  },
  {
   "attachments": {},
   "cell_type": "markdown",
   "metadata": {},
   "source": [
    "# Exploratory Data Analysis"
   ]
  },
  {
   "cell_type": "code",
   "execution_count": 7,
   "metadata": {},
   "outputs": [
    {
     "name": "stdout",
     "output_type": "stream",
     "text": [
      "null values:  0\n",
      "na values:  0\n"
     ]
    }
   ],
   "source": [
    "# there are no missing values\n",
    "print(\"null values: \", data.isnull().values.sum())\n",
    "print(\"na values: \", data.isna().values.sum())"
   ]
  },
  {
   "cell_type": "code",
   "execution_count": 8,
   "metadata": {},
   "outputs": [
    {
     "name": "stdout",
     "output_type": "stream",
     "text": [
      "B    357\n",
      "M    212\n",
      "Name: diagnosis, dtype: int64\n"
     ]
    },
    {
     "data": {
      "text/plain": [
       "<AxesSubplot:title={'center':'Diagnosis'}>"
      ]
     },
     "execution_count": 8,
     "metadata": {},
     "output_type": "execute_result"
    },
    {
     "data": {
      "image/png": "[encoded data removed]",
      "text/plain": [
       "<Figure size 432x288 with 1 Axes>"
      ]
     },
     "metadata": {
      "needs_background": "light"
     },
     "output_type": "display_data"
    }
   ],
   "source": [
    "# there are way more benign than malignant cases, be aware of this\n",
    "print(diagnosis.value_counts())\n",
    "# barplot of diagnosis\n",
    "diagnosis.value_counts().plot(kind='bar', title='Diagnosis')"
   ]
  },
  {
   "cell_type": "code",
   "execution_count": 9,
   "metadata": {},
   "outputs": [
    {
     "data": {
      "text/plain": [
       "<AxesSubplot:xlabel='radius_mean', ylabel='diagnosis'>"
      ]
     },
     "execution_count": 9,
     "metadata": {},
     "output_type": "execute_result"
    },
    {
     "data": {
      "image/png": "[encoded data removed]",
      "text/plain": [
       "<Figure size 432x288 with 1 Axes>"
      ]
     },
     "metadata": {
      "needs_background": "light"
     },
     "output_type": "display_data"
    }
   ],
   "source": [
    "\n",
    "# as we expected, the radius_mean is way bigger and heterogeneous in malignant tumors, outliers included\n",
    "sns.boxplot( x=data[\"radius_mean\"], y=diagnosis)"
   ]
  },
  {
   "cell_type": "code",
   "execution_count": 10,
   "metadata": {},
   "outputs": [
    {
     "data": {
      "text/plain": [
       "<AxesSubplot:xlabel='radius_se', ylabel='diagnosis'>"
      ]
     },
     "execution_count": 10,
     "metadata": {},
     "output_type": "execute_result"
    },
    {
     "data": {
      "image/png": "[encoded data removed]",
      "text/plain": [
       "<Figure size 432x288 with 1 Axes>"
      ]
     },
     "metadata": {
      "needs_background": "light"
     },
     "output_type": "display_data"
    }
   ],
   "source": [
    "sns.boxplot( x=data[\"radius_se\"], y=diagnosis)"
   ]
  },
  {
   "attachments": {},
   "cell_type": "markdown",
   "metadata": {},
   "source": [
    "## PCA\n",
    "* we can see that most malignant cases are clearly distinguishable from benign ones.\n",
    "\n",
    "* But there are malignant ones that in the PCA are surrounded by benign cases, these are the most dangerous cases because we could diagnose them as benign and leave a patient with cancer without treatment."
   ]
  },
  {
   "cell_type": "code",
   "execution_count": 11,
   "metadata": {},
   "outputs": [
    {
     "data": {
      "image/png": "[encoded data removed]",
      "text/plain": [
       "<Figure size 432x288 with 1 Axes>"
      ]
     },
     "metadata": {
      "needs_background": "light"
     },
     "output_type": "display_data"
    }
   ],
   "source": [
    "utils.pca_analysis(data, diagnosis)"
   ]
  },
  {
   "attachments": {},
   "cell_type": "markdown",
   "metadata": {},
   "source": [
    "# Clasification with KNN"
   ]
  },
  {
   "cell_type": "code",
   "execution_count": 12,
   "metadata": {},
   "outputs": [
    {
     "data": {
      "text/html": [
       "<div>\n",
       "<style scoped>\n",
       "    .dataframe tbody tr th:only-of-type {\n",
       "        vertical-align: middle;\n",
       "    }\n",
       "\n",
       "    .dataframe tbody tr th {\n",
       "        vertical-align: top;\n",
       "    }\n",
       "\n",
       "    .dataframe thead th {\n",
       "        text-align: right;\n",
       "    }\n",
       "</style>\n",
       "<table border=\"1\" class=\"dataframe\">\n",
       "  <thead>\n",
       "    <tr style=\"text-align: right;\">\n",
       "      <th></th>\n",
       "      <th>radius_mean</th>\n",
       "      <th>texture_mean</th>\n",
       "      <th>smoothness_mean</th>\n",
       "      <th>compactness_mean</th>\n",
       "      <th>symmetry_mean</th>\n",
       "      <th>fractal_dimension_mean</th>\n",
       "      <th>radius_se</th>\n",
       "      <th>texture_se</th>\n",
       "      <th>smoothness_se</th>\n",
       "      <th>compactness_se</th>\n",
       "      <th>symmetry_se</th>\n",
       "      <th>fractal_dimension_se</th>\n",
       "    </tr>\n",
       "    <tr>\n",
       "      <th>id</th>\n",
       "      <th></th>\n",
       "      <th></th>\n",
       "      <th></th>\n",
       "      <th></th>\n",
       "      <th></th>\n",
       "      <th></th>\n",
       "      <th></th>\n",
       "      <th></th>\n",
       "      <th></th>\n",
       "      <th></th>\n",
       "      <th></th>\n",
       "      <th></th>\n",
       "    </tr>\n",
       "  </thead>\n",
       "  <tbody>\n",
       "    <tr>\n",
       "      <th>874858</th>\n",
       "      <td>14.22</td>\n",
       "      <td>23.12</td>\n",
       "      <td>0.10750</td>\n",
       "      <td>0.24130</td>\n",
       "      <td>0.2384</td>\n",
       "      <td>0.07542</td>\n",
       "      <td>0.2860</td>\n",
       "      <td>2.1100</td>\n",
       "      <td>0.007970</td>\n",
       "      <td>0.135400</td>\n",
       "      <td>0.05113</td>\n",
       "      <td>0.011720</td>\n",
       "    </tr>\n",
       "    <tr>\n",
       "      <th>867739</th>\n",
       "      <td>18.45</td>\n",
       "      <td>21.91</td>\n",
       "      <td>0.09430</td>\n",
       "      <td>0.09709</td>\n",
       "      <td>0.1692</td>\n",
       "      <td>0.05727</td>\n",
       "      <td>0.5959</td>\n",
       "      <td>1.2020</td>\n",
       "      <td>0.006001</td>\n",
       "      <td>0.014220</td>\n",
       "      <td>0.01492</td>\n",
       "      <td>0.002205</td>\n",
       "    </tr>\n",
       "    <tr>\n",
       "      <th>902975</th>\n",
       "      <td>12.21</td>\n",
       "      <td>14.09</td>\n",
       "      <td>0.08108</td>\n",
       "      <td>0.07823</td>\n",
       "      <td>0.1646</td>\n",
       "      <td>0.06154</td>\n",
       "      <td>0.2666</td>\n",
       "      <td>0.8309</td>\n",
       "      <td>0.004405</td>\n",
       "      <td>0.030260</td>\n",
       "      <td>0.01921</td>\n",
       "      <td>0.004622</td>\n",
       "    </tr>\n",
       "    <tr>\n",
       "      <th>864877</th>\n",
       "      <td>15.78</td>\n",
       "      <td>22.91</td>\n",
       "      <td>0.11550</td>\n",
       "      <td>0.17520</td>\n",
       "      <td>0.2096</td>\n",
       "      <td>0.07331</td>\n",
       "      <td>0.5520</td>\n",
       "      <td>1.0720</td>\n",
       "      <td>0.008699</td>\n",
       "      <td>0.039760</td>\n",
       "      <td>0.01495</td>\n",
       "      <td>0.005984</td>\n",
       "    </tr>\n",
       "    <tr>\n",
       "      <th>894090</th>\n",
       "      <td>12.18</td>\n",
       "      <td>14.08</td>\n",
       "      <td>0.07734</td>\n",
       "      <td>0.03212</td>\n",
       "      <td>0.1673</td>\n",
       "      <td>0.05649</td>\n",
       "      <td>0.2113</td>\n",
       "      <td>0.5996</td>\n",
       "      <td>0.005343</td>\n",
       "      <td>0.005767</td>\n",
       "      <td>0.01977</td>\n",
       "      <td>0.000950</td>\n",
       "    </tr>\n",
       "  </tbody>\n",
       "</table>\n",
       "</div>"
      ],
      "text/plain": [
       "        radius_mean  texture_mean  smoothness_mean  compactness_mean  \\\n",
       "id                                                                     \n",
       "874858        14.22         23.12          0.10750           0.24130   \n",
       "867739        18.45         21.91          0.09430           0.09709   \n",
       "902975        12.21         14.09          0.08108           0.07823   \n",
       "864877        15.78         22.91          0.11550           0.17520   \n",
       "894090        12.18         14.08          0.07734           0.03212   \n",
       "\n",
       "        symmetry_mean  fractal_dimension_mean  radius_se  texture_se  \\\n",
       "id                                                                     \n",
       "874858         0.2384                 0.07542     0.2860      2.1100   \n",
       "867739         0.1692                 0.05727     0.5959      1.2020   \n",
       "902975         0.1646                 0.06154     0.2666      0.8309   \n",
       "864877         0.2096                 0.07331     0.5520      1.0720   \n",
       "894090         0.1673                 0.05649     0.2113      0.5996   \n",
       "\n",
       "        smoothness_se  compactness_se  symmetry_se  fractal_dimension_se  \n",
       "id                                                                        \n",
       "874858       0.007970        0.135400      0.05113              0.011720  \n",
       "867739       0.006001        0.014220      0.01492              0.002205  \n",
       "902975       0.004405        0.030260      0.01921              0.004622  \n",
       "864877       0.008699        0.039760      0.01495              0.005984  \n",
       "894090       0.005343        0.005767      0.01977              0.000950  "
      ]
     },
     "execution_count": 12,
     "metadata": {},
     "output_type": "execute_result"
    }
   ],
   "source": [
    "X_train, X_test, y_train, y_test = train_test_split(data, diagnosis, test_size=0.2, random_state=123)\n",
    "X_train.head()"
   ]
  },
  {
   "cell_type": "code",
   "execution_count": 13,
   "metadata": {},
   "outputs": [
    {
     "name": "stdout",
     "output_type": "stream",
     "text": [
      "Best parameters:  {'n_neighbors': 1}\n",
      "Best sensitivity:  0.8188235294117646\n"
     ]
    }
   ],
   "source": [
    "knn = KNeighborsClassifier()\n",
    "param_grid = {'n_neighbors': range(1, 30)}\n",
    "recall_scorer = make_scorer(recall_score, pos_label='M')\n",
    "\n",
    "grid_search_knn = GridSearchCV(knn, param_grid, cv=5, scoring=recall_scorer)\n",
    "\n",
    "grid_search_knn.fit(X_train, y_train)\n",
    "\n",
    "print(\"Best parameters: \", grid_search_knn.best_params_)\n",
    "print(\"Best sensitivity: \", grid_search_knn.best_score_)\n"
   ]
  },
  {
   "attachments": {},
   "cell_type": "markdown",
   "metadata": {},
   "source": [
    "That's a pretty bad prediction, 1 in 5 cancer patients would go home with a negative test.\n",
    "A k=1 means that each patient is predicted acording to the most similar one. "
   ]
  },
  {
   "attachments": {},
   "cell_type": "markdown",
   "metadata": {},
   "source": [
    "## Test prediction and validation\n",
    "Lets predict with this model and see the final result with a dataset never seen by the model"
   ]
  },
  {
   "cell_type": "code",
   "execution_count": 14,
   "metadata": {},
   "outputs": [
    {
     "name": "stdout",
     "output_type": "stream",
     "text": [
      "Accuracy: 0.868\n",
      "Recall: 0.756\n",
      "<sklearn.metrics._plot.confusion_matrix.ConfusionMatrixDisplay object at 0x0000017DFC59CEB0>\n"
     ]
    },
    {
     "data": {
      "image/png": "[encoded data removed]",
      "text/plain": [
       "<Figure size 432x288 with 2 Axes>"
      ]
     },
     "metadata": {
      "needs_background": "light"
     },
     "output_type": "display_data"
    }
   ],
   "source": [
    "# train the model with the best parameters\n",
    "knn = KNeighborsClassifier(n_neighbors=grid_search_knn.best_params_['n_neighbors'])\n",
    "predictions = knn.fit(X_train, y_train).predict(X_test)\n",
    "\n",
    "utils.validation(y_test, predictions)\n"
   ]
  },
  {
   "cell_type": "code",
   "execution_count": 15,
   "metadata": {},
   "outputs": [
    {
     "data": {
      "text/plain": [
       "0.7560975609756098"
      ]
     },
     "execution_count": 15,
     "metadata": {},
     "output_type": "execute_result"
    }
   ],
   "source": [
    "# sensitivity or recall is calculated this way\n",
    "31/41"
   ]
  },
  {
   "attachments": {},
   "cell_type": "markdown",
   "metadata": {},
   "source": [
    "# Clasification with support vector machines (SVM)"
   ]
  },
  {
   "cell_type": "code",
   "execution_count": 16,
   "metadata": {},
   "outputs": [
    {
     "name": "stdout",
     "output_type": "stream",
     "text": [
      "Best parameters:  {'C': 1000, 'gamma': 1, 'kernel': 'linear'}\n",
      "Best sensitivity:  0.8825210084033612\n"
     ]
    }
   ],
   "source": [
    "svc = SVC()\n",
    "param_grid = {'C': [0.1, 1, 100, 1000], 'gamma': [1, 0.1, 0.01, 0.001, 0.0001], 'kernel': ['linear', 'rbf']}\n",
    "recall_scorer = make_scorer(recall_score, pos_label='M')\n",
    "\n",
    "grid_search_svc = GridSearchCV(svc, param_grid, cv=5, scoring=recall_scorer)\n",
    "grid_search_svc.fit(X_train, y_train)\n",
    "\n",
    "print(\"Best parameters: \", grid_search_svc.best_params_)\n",
    "print(\"Best sensitivity: \", grid_search_svc.best_score_)\n"
   ]
  },
  {
   "cell_type": "code",
   "execution_count": 17,
   "metadata": {},
   "outputs": [
    {
     "name": "stdout",
     "output_type": "stream",
     "text": [
      "Accuracy: 0.939\n",
      "Recall: 0.878\n",
      "<sklearn.metrics._plot.confusion_matrix.ConfusionMatrixDisplay object at 0x0000017DFC58EF10>\n"
     ]
    },
    {
     "data": {
      "image/png": "[encoded data removed]",
      "text/plain": [
       "<Figure size 432x288 with 2 Axes>"
      ]
     },
     "metadata": {
      "needs_background": "light"
     },
     "output_type": "display_data"
    }
   ],
   "source": [
    "# Evaluate the model\n",
    "svc = SVC(\n",
    "    C=grid_search_svc.best_params_['C'],\n",
    "    gamma=grid_search_svc.best_params_['gamma'],\n",
    "    kernel=grid_search_svc.best_params_['kernel']\n",
    "                                       )\n",
    "\n",
    "predictions = svc.fit(X_train, y_train).predict(X_test)\n",
    "utils.validation(y_test, predictions)\n"
   ]
  },
  {
   "attachments": {},
   "cell_type": "markdown",
   "metadata": {},
   "source": [
    "With this model, much more complex than knn, we get better results (the number of false negatives is reduced by half), but specificity is not good enough.\n",
    "\n",
    "we could try to put in param_grid higher values of C since the one we have is the highest value of the tested ones. we could also try to tune a little more in gamma. For now there seems to be no overfitting problems because the sensitivity of the train and test datasets are similar."
   ]
  },
  {
   "attachments": {},
   "cell_type": "markdown",
   "metadata": {},
   "source": [
    "# Clasification with random forest"
   ]
  },
  {
   "cell_type": "code",
   "execution_count": 18,
   "metadata": {},
   "outputs": [
    {
     "name": "stdout",
     "output_type": "stream",
     "text": [
      "Best parameters:  {'max_depth': 10, 'n_estimators': 200}\n",
      "Best sensitivity:  0.8768067226890756\n"
     ]
    }
   ],
   "source": [
    "rf = RandomForestClassifier()\n",
    "param_grid = {'n_estimators': [10, 30, 50, 70, 100, 200, 500], \n",
    "                               'max_depth': [2, 3, 5, 10, 20, 50, 100]}\n",
    "\n",
    "grid_search_rf = GridSearchCV(rf, param_grid, cv=5, scoring=recall_scorer)\n",
    "grid_search_rf.fit(X_train, y_train)\n",
    "\n",
    "print(\"Best parameters: \", grid_search_rf.best_params_)\n",
    "print(\"Best sensitivity: \", grid_search_rf.best_score_)\n"
   ]
  },
  {
   "cell_type": "code",
   "execution_count": 19,
   "metadata": {},
   "outputs": [
    {
     "name": "stdout",
     "output_type": "stream",
     "text": [
      "Accuracy: 0.939\n",
      "Recall: 0.878\n",
      "<sklearn.metrics._plot.confusion_matrix.ConfusionMatrixDisplay object at 0x0000017DFC9B67F0>\n"
     ]
    },
    {
     "data": {
      "image/png": "[encoded data removed]",
      "text/plain": [
       "<Figure size 432x288 with 2 Axes>"
      ]
     },
     "metadata": {
      "needs_background": "light"
     },
     "output_type": "display_data"
    }
   ],
   "source": [
    "# Evaluate the model\n",
    "rf = RandomForestClassifier(\n",
    "    n_estimators=grid_search_rf.best_params_['n_estimators'],   \n",
    "    max_depth=grid_search_rf.best_params_['max_depth']\n",
    ")\n",
    "\n",
    "predictions = rf.fit(X_train, y_train).predict(X_test)\n",
    "utils.validation(y_test, predictions)\n"
   ]
  },
  {
   "attachments": {},
   "cell_type": "markdown",
   "metadata": {},
   "source": [
    "# Clasification with neural network (Keras)"
   ]
  },
  {
   "cell_type": "code",
   "execution_count": 20,
   "metadata": {},
   "outputs": [],
   "source": [
    "# diagnosis as M and B causes a lot of problems, so we will change it to 1 and 0\n",
    "diagnosis = diagnosis.map({'M': 1, 'B': 0})\n",
    "X_train, X_test, y_train, y_test = train_test_split(data, diagnosis, test_size=0.2, random_state=123)"
   ]
  },
  {
   "cell_type": "code",
   "execution_count": 21,
   "metadata": {},
   "outputs": [
    {
     "name": "stderr",
     "output_type": "stream",
     "text": [
      "c:\\Users\\rashb\\AppData\\Local\\Programs\\Python\\Python38\\lib\\site-packages\\requests\\__init__.py:89: RequestsDependencyWarning: urllib3 (1.26.12) or chardet (3.0.4) doesn't match a supported version!\n",
      "  warnings.warn(\"urllib3 ({}) or chardet ({}) doesn't match a supported \"\n"
     ]
    },
    {
     "name": "stdout",
     "output_type": "stream",
     "text": [
      "Epoch 1/200\n",
      "21/23 [==========================>...] - ETA: 0s - loss: 1.1191 - accuracy: 0.4583INFO:tensorflow:Assets written to: best_model\\assets\n",
      "23/23 [==============================] - 4s 130ms/step - loss: 1.0709 - accuracy: 0.4890 - val_loss: 0.7085 - val_accuracy: 0.5934\n",
      "Epoch 2/200\n",
      "21/23 [==========================>...] - ETA: 0s - loss: 0.8513 - accuracy: 0.5685INFO:tensorflow:Assets written to: best_model\\assets\n",
      "23/23 [==============================] - 2s 102ms/step - loss: 0.8703 - accuracy: 0.5549 - val_loss: 0.6898 - val_accuracy: 0.5714\n",
      "Epoch 3/200\n",
      "23/23 [==============================] - 0s 11ms/step - loss: 0.8001 - accuracy: 0.5879 - val_loss: 0.7077 - val_accuracy: 0.5165\n",
      "Epoch 4/200\n",
      "20/23 [=========================>....] - ETA: 0s - loss: 0.7066 - accuracy: 0.6250INFO:tensorflow:Assets written to: best_model\\assets\n",
      "23/23 [==============================] - 2s 102ms/step - loss: 0.7059 - accuracy: 0.6236 - val_loss: 0.6727 - val_accuracy: 0.5714\n",
      "Epoch 5/200\n",
      "23/23 [==============================] - 0s 11ms/step - loss: 0.6823 - accuracy: 0.5797 - val_loss: 0.6882 - val_accuracy: 0.6154\n",
      "Epoch 6/200\n",
      "19/23 [=======================>......] - ETA: 0s - loss: 0.6977 - accuracy: 0.6151INFO:tensorflow:Assets written to: best_model\\assets\n",
      "23/23 [==============================] - 2s 105ms/step - loss: 0.6791 - accuracy: 0.6291 - val_loss: 0.6726 - val_accuracy: 0.5604\n",
      "Epoch 7/200\n",
      "23/23 [==============================] - 0s 12ms/step - loss: 0.6785 - accuracy: 0.5989 - val_loss: 0.6983 - val_accuracy: 0.6264\n",
      "Epoch 8/200\n",
      "19/23 [=======================>......] - ETA: 0s - loss: 0.6587 - accuracy: 0.6316INFO:tensorflow:Assets written to: best_model\\assets\n",
      "23/23 [==============================] - 2s 103ms/step - loss: 0.6583 - accuracy: 0.6319 - val_loss: 0.6651 - val_accuracy: 0.6154\n",
      "Epoch 9/200\n",
      "23/23 [==============================] - 0s 12ms/step - loss: 0.6544 - accuracy: 0.6236 - val_loss: 0.6844 - val_accuracy: 0.6374\n",
      "Epoch 10/200\n",
      "23/23 [==============================] - 0s 12ms/step - loss: 0.6294 - accuracy: 0.6484 - val_loss: 0.6651 - val_accuracy: 0.6154\n",
      "Epoch 11/200\n",
      "23/23 [==============================] - 0s 12ms/step - loss: 0.6317 - accuracy: 0.6429 - val_loss: 0.6800 - val_accuracy: 0.6154\n",
      "Epoch 12/200\n",
      "23/23 [==============================] - ETA: 0s - loss: 0.6500 - accuracy: 0.6291INFO:tensorflow:Assets written to: best_model\\assets\n",
      "23/23 [==============================] - 2s 105ms/step - loss: 0.6500 - accuracy: 0.6291 - val_loss: 0.6472 - val_accuracy: 0.6374\n",
      "Epoch 13/200\n",
      "20/23 [=========================>....] - ETA: 0s - loss: 0.6355 - accuracy: 0.6594INFO:tensorflow:Assets written to: best_model\\assets\n",
      "23/23 [==============================] - 2s 94ms/step - loss: 0.6393 - accuracy: 0.6566 - val_loss: 0.6444 - val_accuracy: 0.6374\n",
      "Epoch 14/200\n",
      "23/23 [==============================] - 0s 12ms/step - loss: 0.6054 - accuracy: 0.6731 - val_loss: 0.6579 - val_accuracy: 0.6374\n",
      "Epoch 15/200\n",
      "19/23 [=======================>......] - ETA: 0s - loss: 0.5972 - accuracy: 0.6743INFO:tensorflow:Assets written to: best_model\\assets\n",
      "23/23 [==============================] - 2s 104ms/step - loss: 0.6041 - accuracy: 0.6731 - val_loss: 0.6323 - val_accuracy: 0.6044\n",
      "Epoch 16/200\n",
      "19/23 [=======================>......] - ETA: 0s - loss: 0.5949 - accuracy: 0.6809INFO:tensorflow:Assets written to: best_model\\assets\n",
      "23/23 [==============================] - 2s 103ms/step - loss: 0.5989 - accuracy: 0.6786 - val_loss: 0.6287 - val_accuracy: 0.7143\n",
      "Epoch 17/200\n",
      "23/23 [==============================] - 0s 12ms/step - loss: 0.6056 - accuracy: 0.6923 - val_loss: 0.6313 - val_accuracy: 0.6923\n",
      "Epoch 18/200\n",
      "18/23 [======================>.......] - ETA: 0s - loss: 0.5928 - accuracy: 0.7153INFO:tensorflow:Assets written to: best_model\\assets\n",
      "23/23 [==============================] - 2s 106ms/step - loss: 0.6101 - accuracy: 0.7033 - val_loss: 0.6244 - val_accuracy: 0.7143\n",
      "Epoch 19/200\n",
      "23/23 [==============================] - 0s 11ms/step - loss: 0.6150 - accuracy: 0.6456 - val_loss: 0.6321 - val_accuracy: 0.6593\n",
      "Epoch 20/200\n",
      "20/23 [=========================>....] - ETA: 0s - loss: 0.6059 - accuracy: 0.7031INFO:tensorflow:Assets written to: best_model\\assets\n",
      "23/23 [==============================] - 2s 103ms/step - loss: 0.6079 - accuracy: 0.6978 - val_loss: 0.6234 - val_accuracy: 0.6703\n",
      "Epoch 21/200\n",
      "23/23 [==============================] - 0s 12ms/step - loss: 0.5746 - accuracy: 0.7033 - val_loss: 0.6286 - val_accuracy: 0.6484\n",
      "Epoch 22/200\n",
      "20/23 [=========================>....] - ETA: 0s - loss: 0.5925 - accuracy: 0.6687INFO:tensorflow:Assets written to: best_model\\assets\n",
      "23/23 [==============================] - 2s 103ms/step - loss: 0.5856 - accuracy: 0.6758 - val_loss: 0.6195 - val_accuracy: 0.6593\n",
      "Epoch 23/200\n",
      "22/23 [===========================>..] - ETA: 0s - loss: 0.5644 - accuracy: 0.7159INFO:tensorflow:Assets written to: best_model\\assets\n",
      "23/23 [==============================] - 2s 104ms/step - loss: 0.5638 - accuracy: 0.7143 - val_loss: 0.6069 - val_accuracy: 0.6813\n",
      "Epoch 24/200\n",
      "20/23 [=========================>....] - ETA: 0s - loss: 0.5846 - accuracy: 0.6938INFO:tensorflow:Assets written to: best_model\\assets\n",
      "23/23 [==============================] - 2s 103ms/step - loss: 0.5783 - accuracy: 0.7033 - val_loss: 0.6021 - val_accuracy: 0.7473\n",
      "Epoch 25/200\n",
      "19/23 [=======================>......] - ETA: 0s - loss: 0.5636 - accuracy: 0.7204INFO:tensorflow:Assets written to: best_model\\assets\n",
      "23/23 [==============================] - 2s 95ms/step - loss: 0.5492 - accuracy: 0.7280 - val_loss: 0.5927 - val_accuracy: 0.7253\n",
      "Epoch 26/200\n",
      "23/23 [==============================] - 0s 15ms/step - loss: 0.5743 - accuracy: 0.6841 - val_loss: 0.5982 - val_accuracy: 0.7582\n",
      "Epoch 27/200\n",
      "23/23 [==============================] - 0s 14ms/step - loss: 0.5577 - accuracy: 0.7253 - val_loss: 0.6363 - val_accuracy: 0.6813\n",
      "Epoch 28/200\n",
      "18/23 [======================>.......] - ETA: 0s - loss: 0.5408 - accuracy: 0.7188INFO:tensorflow:Assets written to: best_model\\assets\n",
      "23/23 [==============================] - 2s 104ms/step - loss: 0.5449 - accuracy: 0.7253 - val_loss: 0.5659 - val_accuracy: 0.7582\n",
      "Epoch 29/200\n",
      "23/23 [==============================] - 0s 12ms/step - loss: 0.5488 - accuracy: 0.7198 - val_loss: 0.6406 - val_accuracy: 0.6703\n",
      "Epoch 30/200\n",
      "18/23 [======================>.......] - ETA: 0s - loss: 0.5520 - accuracy: 0.7535INFO:tensorflow:Assets written to: best_model\\assets\n",
      "23/23 [==============================] - 2s 106ms/step - loss: 0.5604 - accuracy: 0.7418 - val_loss: 0.5550 - val_accuracy: 0.7692\n",
      "Epoch 31/200\n",
      "20/23 [=========================>....] - ETA: 0s - loss: 0.5379 - accuracy: 0.7375INFO:tensorflow:Assets written to: best_model\\assets\n",
      "23/23 [==============================] - 2s 103ms/step - loss: 0.5400 - accuracy: 0.7280 - val_loss: 0.5531 - val_accuracy: 0.7802\n",
      "Epoch 32/200\n",
      "23/23 [==============================] - 0s 12ms/step - loss: 0.5234 - accuracy: 0.7692 - val_loss: 0.5554 - val_accuracy: 0.7802\n",
      "Epoch 33/200\n",
      "19/23 [=======================>......] - ETA: 0s - loss: 0.5436 - accuracy: 0.7336INFO:tensorflow:Assets written to: best_model\\assets\n",
      "23/23 [==============================] - 2s 103ms/step - loss: 0.5271 - accuracy: 0.7418 - val_loss: 0.5339 - val_accuracy: 0.7692\n",
      "Epoch 34/200\n",
      "23/23 [==============================] - 0s 13ms/step - loss: 0.5430 - accuracy: 0.7445 - val_loss: 0.5905 - val_accuracy: 0.7033\n",
      "Epoch 35/200\n",
      "23/23 [==============================] - 0s 11ms/step - loss: 0.5217 - accuracy: 0.7500 - val_loss: 0.5375 - val_accuracy: 0.7912\n",
      "Epoch 36/200\n",
      "23/23 [==============================] - ETA: 0s - loss: 0.4911 - accuracy: 0.7665INFO:tensorflow:Assets written to: best_model\\assets\n",
      "23/23 [==============================] - 2s 104ms/step - loss: 0.4911 - accuracy: 0.7665 - val_loss: 0.5091 - val_accuracy: 0.7802\n",
      "Epoch 37/200\n",
      "19/23 [=======================>......] - ETA: 0s - loss: 0.5061 - accuracy: 0.7632INFO:tensorflow:Assets written to: best_model\\assets\n",
      "23/23 [==============================] - 2s 104ms/step - loss: 0.5100 - accuracy: 0.7610 - val_loss: 0.4963 - val_accuracy: 0.7912\n",
      "Epoch 38/200\n",
      "18/23 [======================>.......] - ETA: 0s - loss: 0.5066 - accuracy: 0.7708INFO:tensorflow:Assets written to: best_model\\assets\n",
      "23/23 [==============================] - 2s 96ms/step - loss: 0.4908 - accuracy: 0.7775 - val_loss: 0.4920 - val_accuracy: 0.7692\n",
      "Epoch 39/200\n",
      "23/23 [==============================] - 0s 12ms/step - loss: 0.4828 - accuracy: 0.7527 - val_loss: 0.4948 - val_accuracy: 0.8022\n",
      "Epoch 40/200\n",
      "19/23 [=======================>......] - ETA: 0s - loss: 0.4530 - accuracy: 0.8059INFO:tensorflow:Assets written to: best_model\\assets\n",
      "23/23 [==============================] - 2s 103ms/step - loss: 0.4431 - accuracy: 0.8104 - val_loss: 0.4709 - val_accuracy: 0.8022\n",
      "Epoch 41/200\n",
      "18/23 [======================>.......] - ETA: 0s - loss: 0.4830 - accuracy: 0.7674INFO:tensorflow:Assets written to: best_model\\assets\n",
      "23/23 [==============================] - 2s 103ms/step - loss: 0.4639 - accuracy: 0.7830 - val_loss: 0.4647 - val_accuracy: 0.8242\n",
      "Epoch 42/200\n",
      "23/23 [==============================] - 0s 12ms/step - loss: 0.4375 - accuracy: 0.7995 - val_loss: 0.4936 - val_accuracy: 0.7802\n",
      "Epoch 43/200\n",
      "18/23 [======================>.......] - ETA: 0s - loss: 0.4854 - accuracy: 0.7778INFO:tensorflow:Assets written to: best_model\\assets\n",
      "23/23 [==============================] - 2s 103ms/step - loss: 0.4623 - accuracy: 0.7995 - val_loss: 0.4538 - val_accuracy: 0.8242\n",
      "Epoch 44/200\n",
      "20/23 [=========================>....] - ETA: 0s - loss: 0.4190 - accuracy: 0.8344INFO:tensorflow:Assets written to: best_model\\assets\n",
      "23/23 [==============================] - 2s 103ms/step - loss: 0.4218 - accuracy: 0.8324 - val_loss: 0.4431 - val_accuracy: 0.7802\n",
      "Epoch 45/200\n",
      "23/23 [==============================] - 0s 13ms/step - loss: 0.4478 - accuracy: 0.7857 - val_loss: 0.4442 - val_accuracy: 0.8132\n",
      "Epoch 46/200\n",
      "21/23 [==========================>...] - ETA: 0s - loss: 0.4300 - accuracy: 0.8125INFO:tensorflow:Assets written to: best_model\\assets\n",
      "23/23 [==============================] - 2s 102ms/step - loss: 0.4349 - accuracy: 0.8077 - val_loss: 0.4368 - val_accuracy: 0.8242\n",
      "Epoch 47/200\n",
      "23/23 [==============================] - 0s 12ms/step - loss: 0.4106 - accuracy: 0.8324 - val_loss: 0.5355 - val_accuracy: 0.7692\n",
      "Epoch 48/200\n",
      "21/23 [==========================>...] - ETA: 0s - loss: 0.4178 - accuracy: 0.8214INFO:tensorflow:Assets written to: best_model\\assets\n",
      "23/23 [==============================] - 2s 104ms/step - loss: 0.4157 - accuracy: 0.8187 - val_loss: 0.4342 - val_accuracy: 0.8132\n",
      "Epoch 49/200\n",
      "23/23 [==============================] - 0s 12ms/step - loss: 0.3987 - accuracy: 0.8214 - val_loss: 0.4719 - val_accuracy: 0.8022\n",
      "Epoch 50/200\n",
      "23/23 [==============================] - 0s 13ms/step - loss: 0.3879 - accuracy: 0.8352 - val_loss: 0.4378 - val_accuracy: 0.8022\n",
      "Epoch 51/200\n",
      "23/23 [==============================] - 0s 12ms/step - loss: 0.4086 - accuracy: 0.8462 - val_loss: 0.4446 - val_accuracy: 0.8132\n",
      "Epoch 52/200\n",
      "19/23 [=======================>......] - ETA: 0s - loss: 0.3506 - accuracy: 0.8717INFO:tensorflow:Assets written to: best_model\\assets\n",
      "23/23 [==============================] - 2s 95ms/step - loss: 0.3481 - accuracy: 0.8736 - val_loss: 0.4028 - val_accuracy: 0.7912\n",
      "Epoch 53/200\n",
      "23/23 [==============================] - 0s 12ms/step - loss: 0.3751 - accuracy: 0.8407 - val_loss: 0.4077 - val_accuracy: 0.8242\n",
      "Epoch 54/200\n",
      "23/23 [==============================] - 0s 11ms/step - loss: 0.3529 - accuracy: 0.8489 - val_loss: 0.4213 - val_accuracy: 0.8132\n",
      "Epoch 55/200\n",
      "23/23 [==============================] - 0s 12ms/step - loss: 0.3760 - accuracy: 0.8462 - val_loss: 0.4462 - val_accuracy: 0.8132\n",
      "Epoch 56/200\n",
      "23/23 [==============================] - 0s 12ms/step - loss: 0.3692 - accuracy: 0.8462 - val_loss: 0.4472 - val_accuracy: 0.8132\n",
      "Epoch 57/200\n",
      "19/23 [=======================>......] - ETA: 0s - loss: 0.3249 - accuracy: 0.8882INFO:tensorflow:Assets written to: best_model\\assets\n",
      "23/23 [==============================] - 2s 104ms/step - loss: 0.3516 - accuracy: 0.8571 - val_loss: 0.3870 - val_accuracy: 0.8242\n",
      "Epoch 58/200\n",
      "20/23 [=========================>....] - ETA: 0s - loss: 0.3353 - accuracy: 0.8781INFO:tensorflow:Assets written to: best_model\\assets\n",
      "23/23 [==============================] - 2s 102ms/step - loss: 0.3718 - accuracy: 0.8571 - val_loss: 0.3807 - val_accuracy: 0.8132\n",
      "Epoch 59/200\n",
      "23/23 [==============================] - 0s 12ms/step - loss: 0.3693 - accuracy: 0.8407 - val_loss: 0.3920 - val_accuracy: 0.8242\n",
      "Epoch 60/200\n",
      "23/23 [==============================] - 0s 12ms/step - loss: 0.3362 - accuracy: 0.8626 - val_loss: 0.4491 - val_accuracy: 0.8132\n",
      "Epoch 61/200\n",
      "23/23 [==============================] - 0s 12ms/step - loss: 0.3387 - accuracy: 0.8709 - val_loss: 0.4042 - val_accuracy: 0.8132\n",
      "Epoch 62/200\n",
      "18/23 [======================>.......] - ETA: 0s - loss: 0.3271 - accuracy: 0.8576INFO:tensorflow:Assets written to: best_model\\assets\n",
      "23/23 [==============================] - 2s 103ms/step - loss: 0.3406 - accuracy: 0.8544 - val_loss: 0.3783 - val_accuracy: 0.8352\n",
      "Epoch 63/200\n",
      "23/23 [==============================] - 0s 11ms/step - loss: 0.3187 - accuracy: 0.8736 - val_loss: 0.3872 - val_accuracy: 0.8242\n",
      "Epoch 64/200\n",
      "19/23 [=======================>......] - ETA: 0s - loss: 0.3149 - accuracy: 0.8651INFO:tensorflow:Assets written to: best_model\\assets\n",
      "23/23 [==============================] - 2s 106ms/step - loss: 0.3063 - accuracy: 0.8654 - val_loss: 0.3637 - val_accuracy: 0.8352\n",
      "Epoch 65/200\n",
      "23/23 [==============================] - 0s 12ms/step - loss: 0.3176 - accuracy: 0.8764 - val_loss: 0.3872 - val_accuracy: 0.8242\n",
      "Epoch 66/200\n",
      "23/23 [==============================] - 0s 12ms/step - loss: 0.3137 - accuracy: 0.8626 - val_loss: 0.4072 - val_accuracy: 0.8132\n",
      "Epoch 67/200\n",
      "23/23 [==============================] - 0s 14ms/step - loss: 0.3461 - accuracy: 0.8626 - val_loss: 0.3796 - val_accuracy: 0.8242\n",
      "Epoch 68/200\n",
      "20/23 [=========================>....] - ETA: 0s - loss: 0.2844 - accuracy: 0.8938INFO:tensorflow:Assets written to: best_model\\assets\n",
      "23/23 [==============================] - 2s 102ms/step - loss: 0.2944 - accuracy: 0.8846 - val_loss: 0.3630 - val_accuracy: 0.8352\n",
      "Epoch 69/200\n",
      "18/23 [======================>.......] - ETA: 0s - loss: 0.3057 - accuracy: 0.8785INFO:tensorflow:Assets written to: best_model\\assets\n",
      "23/23 [==============================] - 2s 104ms/step - loss: 0.3006 - accuracy: 0.8819 - val_loss: 0.3532 - val_accuracy: 0.8462\n",
      "Epoch 70/200\n",
      "23/23 [==============================] - 0s 12ms/step - loss: 0.2961 - accuracy: 0.8901 - val_loss: 0.3693 - val_accuracy: 0.8022\n",
      "Epoch 71/200\n",
      "23/23 [==============================] - 0s 11ms/step - loss: 0.2985 - accuracy: 0.8819 - val_loss: 0.3885 - val_accuracy: 0.8132\n",
      "Epoch 72/200\n",
      "18/23 [======================>.......] - ETA: 0s - loss: 0.3160 - accuracy: 0.8715INFO:tensorflow:Assets written to: best_model\\assets\n",
      "23/23 [==============================] - 2s 95ms/step - loss: 0.2946 - accuracy: 0.8901 - val_loss: 0.3430 - val_accuracy: 0.8462\n",
      "Epoch 73/200\n",
      "23/23 [==============================] - 0s 12ms/step - loss: 0.3044 - accuracy: 0.8764 - val_loss: 0.3888 - val_accuracy: 0.8132\n",
      "Epoch 74/200\n",
      "23/23 [==============================] - 0s 12ms/step - loss: 0.3021 - accuracy: 0.8956 - val_loss: 0.3467 - val_accuracy: 0.8571\n",
      "Epoch 75/200\n",
      "23/23 [==============================] - 0s 12ms/step - loss: 0.3056 - accuracy: 0.8929 - val_loss: 0.4057 - val_accuracy: 0.8132\n",
      "Epoch 76/200\n",
      "23/23 [==============================] - 0s 11ms/step - loss: 0.2886 - accuracy: 0.8709 - val_loss: 0.3626 - val_accuracy: 0.8242\n",
      "Epoch 77/200\n",
      "19/23 [=======================>......] - ETA: 0s - loss: 0.2963 - accuracy: 0.8651INFO:tensorflow:Assets written to: best_model\\assets\n",
      "23/23 [==============================] - 2s 103ms/step - loss: 0.2827 - accuracy: 0.8764 - val_loss: 0.3336 - val_accuracy: 0.8791\n",
      "Epoch 78/200\n",
      "23/23 [==============================] - 0s 11ms/step - loss: 0.2892 - accuracy: 0.8819 - val_loss: 0.3422 - val_accuracy: 0.8571\n",
      "Epoch 79/200\n",
      "23/23 [==============================] - 0s 12ms/step - loss: 0.2697 - accuracy: 0.8874 - val_loss: 0.3529 - val_accuracy: 0.8352\n",
      "Epoch 80/200\n",
      "23/23 [==============================] - 0s 13ms/step - loss: 0.2867 - accuracy: 0.8901 - val_loss: 0.3402 - val_accuracy: 0.8462\n",
      "Epoch 81/200\n",
      "23/23 [==============================] - 0s 12ms/step - loss: 0.2684 - accuracy: 0.8956 - val_loss: 0.3351 - val_accuracy: 0.8681\n",
      "Epoch 82/200\n",
      "19/23 [=======================>......] - ETA: 0s - loss: 0.2636 - accuracy: 0.9013INFO:tensorflow:Assets written to: best_model\\assets\n",
      "23/23 [==============================] - 2s 102ms/step - loss: 0.2495 - accuracy: 0.9066 - val_loss: 0.3245 - val_accuracy: 0.8791\n",
      "Epoch 83/200\n",
      "23/23 [==============================] - 0s 12ms/step - loss: 0.2599 - accuracy: 0.8956 - val_loss: 0.3382 - val_accuracy: 0.8571\n",
      "Epoch 84/200\n",
      "22/23 [===========================>..] - ETA: 0s - loss: 0.2577 - accuracy: 0.9034INFO:tensorflow:Assets written to: best_model\\assets\n",
      "23/23 [==============================] - 2s 104ms/step - loss: 0.2663 - accuracy: 0.8984 - val_loss: 0.3149 - val_accuracy: 0.8681\n",
      "Epoch 85/200\n",
      "23/23 [==============================] - 0s 12ms/step - loss: 0.2962 - accuracy: 0.8654 - val_loss: 0.3290 - val_accuracy: 0.8791\n",
      "Epoch 86/200\n",
      "23/23 [==============================] - 0s 12ms/step - loss: 0.2615 - accuracy: 0.8956 - val_loss: 0.3493 - val_accuracy: 0.8352\n",
      "Epoch 87/200\n",
      "23/23 [==============================] - 0s 12ms/step - loss: 0.2422 - accuracy: 0.9066 - val_loss: 0.3581 - val_accuracy: 0.8352\n",
      "Epoch 88/200\n",
      "23/23 [==============================] - 0s 12ms/step - loss: 0.2380 - accuracy: 0.9121 - val_loss: 0.3272 - val_accuracy: 0.8681\n",
      "Epoch 89/200\n",
      "23/23 [==============================] - 0s 12ms/step - loss: 0.2628 - accuracy: 0.9011 - val_loss: 0.3763 - val_accuracy: 0.8352\n",
      "Epoch 90/200\n",
      "23/23 [==============================] - 0s 12ms/step - loss: 0.2582 - accuracy: 0.9038 - val_loss: 0.3349 - val_accuracy: 0.8791\n",
      "Epoch 91/200\n",
      "23/23 [==============================] - 0s 12ms/step - loss: 0.2574 - accuracy: 0.9093 - val_loss: 0.3225 - val_accuracy: 0.8791\n",
      "Epoch 92/200\n",
      "23/23 [==============================] - 0s 13ms/step - loss: 0.2763 - accuracy: 0.8901 - val_loss: 0.3429 - val_accuracy: 0.8462\n",
      "Epoch 93/200\n",
      "23/23 [==============================] - 0s 11ms/step - loss: 0.2514 - accuracy: 0.8956 - val_loss: 0.3449 - val_accuracy: 0.8462\n",
      "Epoch 94/200\n",
      "23/23 [==============================] - 0s 11ms/step - loss: 0.2353 - accuracy: 0.9038 - val_loss: 0.3331 - val_accuracy: 0.8571\n",
      "Epoch 95/200\n",
      "21/23 [==========================>...] - ETA: 0s - loss: 0.2638 - accuracy: 0.8780INFO:tensorflow:Assets written to: best_model\\assets\n",
      "23/23 [==============================] - 2s 103ms/step - loss: 0.2639 - accuracy: 0.8791 - val_loss: 0.3129 - val_accuracy: 0.8901\n",
      "Epoch 96/200\n",
      "23/23 [==============================] - 0s 11ms/step - loss: 0.2466 - accuracy: 0.9011 - val_loss: 0.3299 - val_accuracy: 0.8462\n",
      "Epoch 97/200\n",
      "23/23 [==============================] - 0s 11ms/step - loss: 0.2348 - accuracy: 0.8956 - val_loss: 0.3228 - val_accuracy: 0.8901\n",
      "Epoch 98/200\n",
      "23/23 [==============================] - 0s 11ms/step - loss: 0.2402 - accuracy: 0.9011 - val_loss: 0.3259 - val_accuracy: 0.8791\n",
      "Epoch 99/200\n",
      "23/23 [==============================] - 0s 13ms/step - loss: 0.2392 - accuracy: 0.9066 - val_loss: 0.3319 - val_accuracy: 0.8681\n",
      "Epoch 100/200\n",
      "23/23 [==============================] - 0s 12ms/step - loss: 0.2340 - accuracy: 0.9011 - val_loss: 0.3243 - val_accuracy: 0.8681\n",
      "Epoch 101/200\n",
      "23/23 [==============================] - 0s 12ms/step - loss: 0.2408 - accuracy: 0.8984 - val_loss: 0.3201 - val_accuracy: 0.8901\n",
      "Epoch 102/200\n",
      "22/23 [===========================>..] - ETA: 0s - loss: 0.2355 - accuracy: 0.9091INFO:tensorflow:Assets written to: best_model\\assets\n",
      "23/23 [==============================] - 2s 104ms/step - loss: 0.2380 - accuracy: 0.9066 - val_loss: 0.3097 - val_accuracy: 0.8791\n",
      "Epoch 103/200\n",
      "23/23 [==============================] - 0s 11ms/step - loss: 0.2373 - accuracy: 0.8956 - val_loss: 0.3572 - val_accuracy: 0.8462\n",
      "Epoch 104/200\n",
      "23/23 [==============================] - 0s 11ms/step - loss: 0.2234 - accuracy: 0.9121 - val_loss: 0.3470 - val_accuracy: 0.8681\n",
      "Epoch 105/200\n",
      "20/23 [=========================>....] - ETA: 0s - loss: 0.2317 - accuracy: 0.9094INFO:tensorflow:Assets written to: best_model\\assets\n",
      "23/23 [==============================] - 2s 103ms/step - loss: 0.2316 - accuracy: 0.9093 - val_loss: 0.3087 - val_accuracy: 0.8571\n",
      "Epoch 106/200\n",
      "23/23 [==============================] - 0s 11ms/step - loss: 0.2256 - accuracy: 0.9066 - val_loss: 0.3206 - val_accuracy: 0.8901\n",
      "Epoch 107/200\n",
      "23/23 [==============================] - 0s 12ms/step - loss: 0.2475 - accuracy: 0.9038 - val_loss: 0.3254 - val_accuracy: 0.8791\n",
      "Epoch 108/200\n",
      "23/23 [==============================] - 0s 12ms/step - loss: 0.2353 - accuracy: 0.8874 - val_loss: 0.3393 - val_accuracy: 0.8681\n",
      "Epoch 109/200\n",
      "23/23 [==============================] - 0s 12ms/step - loss: 0.2511 - accuracy: 0.9011 - val_loss: 0.3684 - val_accuracy: 0.8352\n",
      "Epoch 110/200\n",
      "23/23 [==============================] - 0s 12ms/step - loss: 0.2557 - accuracy: 0.9038 - val_loss: 0.3111 - val_accuracy: 0.8901\n",
      "Epoch 111/200\n",
      "23/23 [==============================] - 0s 12ms/step - loss: 0.2327 - accuracy: 0.9011 - val_loss: 0.3469 - val_accuracy: 0.8352\n",
      "Epoch 112/200\n",
      "23/23 [==============================] - 0s 12ms/step - loss: 0.2342 - accuracy: 0.9011 - val_loss: 0.3187 - val_accuracy: 0.8901\n",
      "Epoch 113/200\n",
      "23/23 [==============================] - 0s 12ms/step - loss: 0.2210 - accuracy: 0.9148 - val_loss: 0.3340 - val_accuracy: 0.8681\n",
      "Epoch 114/200\n",
      "23/23 [==============================] - 0s 13ms/step - loss: 0.2221 - accuracy: 0.8956 - val_loss: 0.3146 - val_accuracy: 0.8791\n",
      "Epoch 115/200\n",
      "23/23 [==============================] - 0s 12ms/step - loss: 0.2308 - accuracy: 0.8984 - val_loss: 0.3257 - val_accuracy: 0.8791\n",
      "Epoch 116/200\n",
      "23/23 [==============================] - 0s 12ms/step - loss: 0.2294 - accuracy: 0.9176 - val_loss: 0.3526 - val_accuracy: 0.8571\n",
      "Epoch 117/200\n",
      "23/23 [==============================] - 0s 12ms/step - loss: 0.2190 - accuracy: 0.9148 - val_loss: 0.3385 - val_accuracy: 0.8791\n",
      "Epoch 118/200\n",
      "23/23 [==============================] - 0s 12ms/step - loss: 0.2294 - accuracy: 0.9066 - val_loss: 0.3201 - val_accuracy: 0.8791\n",
      "Epoch 119/200\n",
      "23/23 [==============================] - 0s 11ms/step - loss: 0.2342 - accuracy: 0.9066 - val_loss: 0.3418 - val_accuracy: 0.8681\n",
      "Epoch 120/200\n",
      "19/23 [=======================>......] - ETA: 0s - loss: 0.2161 - accuracy: 0.9046INFO:tensorflow:Assets written to: best_model\\assets\n",
      "23/23 [==============================] - 2s 103ms/step - loss: 0.2205 - accuracy: 0.9066 - val_loss: 0.3075 - val_accuracy: 0.8901\n",
      "Epoch 121/200\n",
      "23/23 [==============================] - 0s 12ms/step - loss: 0.2212 - accuracy: 0.9093 - val_loss: 0.3329 - val_accuracy: 0.8791\n",
      "Epoch 122/200\n",
      "23/23 [==============================] - 0s 12ms/step - loss: 0.2120 - accuracy: 0.9148 - val_loss: 0.3173 - val_accuracy: 0.8791\n",
      "Epoch 123/200\n",
      "19/23 [=======================>......] - ETA: 0s - loss: 0.2530 - accuracy: 0.8882INFO:tensorflow:Assets written to: best_model\\assets\n",
      "23/23 [==============================] - 2s 106ms/step - loss: 0.2287 - accuracy: 0.9038 - val_loss: 0.3066 - val_accuracy: 0.8791\n",
      "Epoch 124/200\n",
      "23/23 [==============================] - 0s 12ms/step - loss: 0.2379 - accuracy: 0.9011 - val_loss: 0.3203 - val_accuracy: 0.8901\n",
      "Epoch 125/200\n",
      "19/23 [=======================>......] - ETA: 0s - loss: 0.2104 - accuracy: 0.9046INFO:tensorflow:Assets written to: best_model\\assets\n",
      "23/23 [==============================] - 2s 103ms/step - loss: 0.2125 - accuracy: 0.9093 - val_loss: 0.3006 - val_accuracy: 0.8681\n",
      "Epoch 126/200\n",
      "23/23 [==============================] - ETA: 0s - loss: 0.2046 - accuracy: 0.9148INFO:tensorflow:Assets written to: best_model\\assets\n",
      "23/23 [==============================] - 2s 95ms/step - loss: 0.2046 - accuracy: 0.9148 - val_loss: 0.2999 - val_accuracy: 0.8681\n",
      "Epoch 127/200\n",
      "23/23 [==============================] - 0s 16ms/step - loss: 0.2384 - accuracy: 0.8929 - val_loss: 0.3054 - val_accuracy: 0.8791\n",
      "Epoch 128/200\n",
      "23/23 [==============================] - 0s 17ms/step - loss: 0.2126 - accuracy: 0.9231 - val_loss: 0.3400 - val_accuracy: 0.8901\n",
      "Epoch 129/200\n",
      "23/23 [==============================] - 0s 14ms/step - loss: 0.2072 - accuracy: 0.9038 - val_loss: 0.3305 - val_accuracy: 0.8681\n",
      "Epoch 130/200\n",
      "23/23 [==============================] - 0s 13ms/step - loss: 0.2156 - accuracy: 0.9066 - val_loss: 0.3142 - val_accuracy: 0.8901\n",
      "Epoch 131/200\n",
      "23/23 [==============================] - 0s 12ms/step - loss: 0.2123 - accuracy: 0.9066 - val_loss: 0.3100 - val_accuracy: 0.8791\n",
      "Epoch 132/200\n",
      "23/23 [==============================] - 0s 12ms/step - loss: 0.2309 - accuracy: 0.9148 - val_loss: 0.3037 - val_accuracy: 0.8901\n",
      "Epoch 133/200\n",
      "23/23 [==============================] - 0s 12ms/step - loss: 0.2228 - accuracy: 0.9011 - val_loss: 0.3082 - val_accuracy: 0.8901\n",
      "Epoch 134/200\n",
      "23/23 [==============================] - 0s 12ms/step - loss: 0.2316 - accuracy: 0.9093 - val_loss: 0.3154 - val_accuracy: 0.8901\n",
      "Epoch 135/200\n",
      "23/23 [==============================] - 0s 12ms/step - loss: 0.2003 - accuracy: 0.9148 - val_loss: 0.3107 - val_accuracy: 0.9011\n",
      "Epoch 136/200\n",
      "23/23 [==============================] - 0s 12ms/step - loss: 0.2147 - accuracy: 0.9066 - val_loss: 0.3263 - val_accuracy: 0.8901\n",
      "Epoch 137/200\n",
      "23/23 [==============================] - 0s 12ms/step - loss: 0.2397 - accuracy: 0.8846 - val_loss: 0.3456 - val_accuracy: 0.8571\n",
      "Epoch 138/200\n",
      "23/23 [==============================] - 0s 12ms/step - loss: 0.2205 - accuracy: 0.9176 - val_loss: 0.3273 - val_accuracy: 0.8791\n",
      "Epoch 139/200\n",
      "23/23 [==============================] - 0s 11ms/step - loss: 0.1847 - accuracy: 0.9203 - val_loss: 0.3009 - val_accuracy: 0.8791\n",
      "Epoch 140/200\n",
      "19/23 [=======================>......] - ETA: 0s - loss: 0.2185 - accuracy: 0.9046INFO:tensorflow:Assets written to: best_model\\assets\n",
      "23/23 [==============================] - 2s 103ms/step - loss: 0.2287 - accuracy: 0.8984 - val_loss: 0.2948 - val_accuracy: 0.8571\n",
      "Epoch 141/200\n",
      "20/23 [=========================>....] - ETA: 0s - loss: 0.2418 - accuracy: 0.8813INFO:tensorflow:Assets written to: best_model\\assets\n",
      "23/23 [==============================] - 2s 102ms/step - loss: 0.2304 - accuracy: 0.8901 - val_loss: 0.2907 - val_accuracy: 0.8791\n",
      "Epoch 142/200\n",
      "23/23 [==============================] - 0s 12ms/step - loss: 0.2387 - accuracy: 0.8929 - val_loss: 0.3458 - val_accuracy: 0.8681\n",
      "Epoch 143/200\n",
      "23/23 [==============================] - 0s 12ms/step - loss: 0.2077 - accuracy: 0.9121 - val_loss: 0.2956 - val_accuracy: 0.8571\n",
      "Epoch 144/200\n",
      "23/23 [==============================] - 0s 12ms/step - loss: 0.2272 - accuracy: 0.9093 - val_loss: 0.3116 - val_accuracy: 0.8901\n",
      "Epoch 145/200\n",
      "23/23 [==============================] - 0s 12ms/step - loss: 0.2382 - accuracy: 0.8901 - val_loss: 0.3034 - val_accuracy: 0.8901\n",
      "Epoch 146/200\n",
      "23/23 [==============================] - 0s 12ms/step - loss: 0.2105 - accuracy: 0.9203 - val_loss: 0.2935 - val_accuracy: 0.8901\n",
      "Epoch 147/200\n",
      "23/23 [==============================] - 0s 12ms/step - loss: 0.2350 - accuracy: 0.8956 - val_loss: 0.3482 - val_accuracy: 0.8462\n",
      "Epoch 148/200\n",
      "23/23 [==============================] - 0s 11ms/step - loss: 0.1963 - accuracy: 0.9203 - val_loss: 0.3108 - val_accuracy: 0.8901\n",
      "Epoch 149/200\n",
      "23/23 [==============================] - 0s 12ms/step - loss: 0.2141 - accuracy: 0.9203 - val_loss: 0.2936 - val_accuracy: 0.8901\n",
      "Epoch 150/200\n",
      "23/23 [==============================] - 0s 12ms/step - loss: 0.2225 - accuracy: 0.9038 - val_loss: 0.3490 - val_accuracy: 0.8571\n",
      "Epoch 151/200\n",
      "23/23 [==============================] - 0s 11ms/step - loss: 0.1811 - accuracy: 0.9368 - val_loss: 0.3361 - val_accuracy: 0.8791\n",
      "Epoch 152/200\n",
      "23/23 [==============================] - 0s 15ms/step - loss: 0.2068 - accuracy: 0.9203 - val_loss: 0.3519 - val_accuracy: 0.8681\n",
      "Epoch 153/200\n",
      "23/23 [==============================] - 0s 13ms/step - loss: 0.2213 - accuracy: 0.9066 - val_loss: 0.3204 - val_accuracy: 0.8791\n",
      "Epoch 154/200\n",
      "23/23 [==============================] - 0s 12ms/step - loss: 0.1999 - accuracy: 0.9121 - val_loss: 0.3517 - val_accuracy: 0.8571\n",
      "Epoch 155/200\n",
      "23/23 [==============================] - 0s 12ms/step - loss: 0.2044 - accuracy: 0.9148 - val_loss: 0.3169 - val_accuracy: 0.8901\n",
      "Epoch 156/200\n",
      "23/23 [==============================] - 0s 12ms/step - loss: 0.2066 - accuracy: 0.9203 - val_loss: 0.2962 - val_accuracy: 0.8571\n",
      "Epoch 157/200\n",
      "23/23 [==============================] - 0s 12ms/step - loss: 0.2038 - accuracy: 0.8929 - val_loss: 0.3144 - val_accuracy: 0.8791\n",
      "Epoch 158/200\n",
      "23/23 [==============================] - 0s 12ms/step - loss: 0.2083 - accuracy: 0.9231 - val_loss: 0.2928 - val_accuracy: 0.8791\n",
      "Epoch 159/200\n",
      "19/23 [=======================>......] - ETA: 0s - loss: 0.1834 - accuracy: 0.9342INFO:tensorflow:Assets written to: best_model\\assets\n",
      "23/23 [==============================] - 2s 103ms/step - loss: 0.2028 - accuracy: 0.9231 - val_loss: 0.2896 - val_accuracy: 0.8571\n",
      "Epoch 160/200\n",
      "23/23 [==============================] - 0s 12ms/step - loss: 0.1945 - accuracy: 0.9258 - val_loss: 0.2998 - val_accuracy: 0.8791\n",
      "Epoch 161/200\n",
      "23/23 [==============================] - 0s 12ms/step - loss: 0.1764 - accuracy: 0.9203 - val_loss: 0.3842 - val_accuracy: 0.8681\n",
      "Epoch 162/200\n",
      "23/23 [==============================] - 0s 13ms/step - loss: 0.2121 - accuracy: 0.9066 - val_loss: 0.3546 - val_accuracy: 0.8571\n",
      "Epoch 163/200\n",
      "23/23 [==============================] - 0s 13ms/step - loss: 0.2155 - accuracy: 0.9066 - val_loss: 0.3262 - val_accuracy: 0.8791\n",
      "Epoch 164/200\n",
      "23/23 [==============================] - 0s 12ms/step - loss: 0.2098 - accuracy: 0.9038 - val_loss: 0.3121 - val_accuracy: 0.8791\n",
      "Epoch 165/200\n",
      "23/23 [==============================] - 0s 12ms/step - loss: 0.1881 - accuracy: 0.9258 - val_loss: 0.3110 - val_accuracy: 0.8901\n",
      "Epoch 166/200\n",
      "23/23 [==============================] - 0s 12ms/step - loss: 0.2172 - accuracy: 0.9011 - val_loss: 0.3144 - val_accuracy: 0.8901\n",
      "Epoch 167/200\n",
      "23/23 [==============================] - 0s 12ms/step - loss: 0.2192 - accuracy: 0.9121 - val_loss: 0.3368 - val_accuracy: 0.8791\n",
      "Epoch 168/200\n",
      "23/23 [==============================] - 0s 12ms/step - loss: 0.2070 - accuracy: 0.9176 - val_loss: 0.3451 - val_accuracy: 0.8791\n",
      "Epoch 169/200\n",
      "23/23 [==============================] - 0s 11ms/step - loss: 0.1942 - accuracy: 0.9121 - val_loss: 0.3034 - val_accuracy: 0.8901\n",
      "Epoch 170/200\n",
      "23/23 [==============================] - 0s 11ms/step - loss: 0.2212 - accuracy: 0.9093 - val_loss: 0.3649 - val_accuracy: 0.8681\n",
      "Epoch 171/200\n",
      "23/23 [==============================] - 0s 13ms/step - loss: 0.1847 - accuracy: 0.9286 - val_loss: 0.3565 - val_accuracy: 0.8791\n",
      "Epoch 172/200\n",
      "23/23 [==============================] - 0s 12ms/step - loss: 0.1887 - accuracy: 0.9231 - val_loss: 0.3055 - val_accuracy: 0.8681\n",
      "Epoch 173/200\n",
      "23/23 [==============================] - 0s 12ms/step - loss: 0.2377 - accuracy: 0.9011 - val_loss: 0.3044 - val_accuracy: 0.8901\n",
      "Epoch 174/200\n",
      "23/23 [==============================] - 0s 12ms/step - loss: 0.2158 - accuracy: 0.9176 - val_loss: 0.3168 - val_accuracy: 0.8901\n",
      "Epoch 175/200\n",
      "23/23 [==============================] - 0s 15ms/step - loss: 0.2227 - accuracy: 0.9066 - val_loss: 0.3487 - val_accuracy: 0.8571\n",
      "Epoch 176/200\n",
      "23/23 [==============================] - 0s 12ms/step - loss: 0.1764 - accuracy: 0.9368 - val_loss: 0.3609 - val_accuracy: 0.8681\n",
      "Epoch 177/200\n",
      "23/23 [==============================] - 0s 13ms/step - loss: 0.2266 - accuracy: 0.9038 - val_loss: 0.3743 - val_accuracy: 0.8462\n",
      "Epoch 178/200\n",
      "23/23 [==============================] - 0s 13ms/step - loss: 0.1818 - accuracy: 0.9258 - val_loss: 0.3360 - val_accuracy: 0.8681\n",
      "Epoch 179/200\n",
      "23/23 [==============================] - 0s 12ms/step - loss: 0.1934 - accuracy: 0.9176 - val_loss: 0.3683 - val_accuracy: 0.8791\n",
      "Epoch 180/200\n",
      "23/23 [==============================] - 0s 12ms/step - loss: 0.2064 - accuracy: 0.9313 - val_loss: 0.3239 - val_accuracy: 0.8791\n",
      "Epoch 181/200\n",
      "23/23 [==============================] - 0s 12ms/step - loss: 0.1876 - accuracy: 0.9341 - val_loss: 0.3093 - val_accuracy: 0.8901\n",
      "Epoch 182/200\n",
      "23/23 [==============================] - 0s 12ms/step - loss: 0.1797 - accuracy: 0.9258 - val_loss: 0.3567 - val_accuracy: 0.8681\n",
      "Epoch 183/200\n",
      "23/23 [==============================] - 0s 12ms/step - loss: 0.2012 - accuracy: 0.9093 - val_loss: 0.3889 - val_accuracy: 0.8571\n",
      "Epoch 184/200\n",
      "23/23 [==============================] - 0s 12ms/step - loss: 0.1983 - accuracy: 0.9121 - val_loss: 0.3493 - val_accuracy: 0.8791\n",
      "Epoch 185/200\n",
      "23/23 [==============================] - 0s 15ms/step - loss: 0.2024 - accuracy: 0.9203 - val_loss: 0.2991 - val_accuracy: 0.9011\n",
      "Epoch 186/200\n",
      "23/23 [==============================] - 0s 12ms/step - loss: 0.1841 - accuracy: 0.9313 - val_loss: 0.2951 - val_accuracy: 0.8901\n",
      "Epoch 187/200\n",
      "23/23 [==============================] - 0s 11ms/step - loss: 0.1760 - accuracy: 0.9231 - val_loss: 0.3102 - val_accuracy: 0.8901\n",
      "Epoch 188/200\n",
      "23/23 [==============================] - 0s 13ms/step - loss: 0.2188 - accuracy: 0.8984 - val_loss: 0.3325 - val_accuracy: 0.8681\n",
      "Epoch 189/200\n",
      "20/23 [=========================>....] - ETA: 0s - loss: 0.1521 - accuracy: 0.9438INFO:tensorflow:Assets written to: best_model\\assets\n",
      "23/23 [==============================] - 2s 102ms/step - loss: 0.1722 - accuracy: 0.9286 - val_loss: 0.2831 - val_accuracy: 0.8901\n",
      "Epoch 190/200\n",
      "23/23 [==============================] - 0s 12ms/step - loss: 0.1820 - accuracy: 0.9286 - val_loss: 0.2956 - val_accuracy: 0.8791\n",
      "Epoch 191/200\n",
      "23/23 [==============================] - 0s 12ms/step - loss: 0.1733 - accuracy: 0.9203 - val_loss: 0.2900 - val_accuracy: 0.8901\n",
      "Epoch 192/200\n",
      "23/23 [==============================] - 0s 12ms/step - loss: 0.1951 - accuracy: 0.9121 - val_loss: 0.3311 - val_accuracy: 0.8791\n",
      "Epoch 193/200\n",
      "23/23 [==============================] - 0s 13ms/step - loss: 0.1927 - accuracy: 0.9231 - val_loss: 0.2945 - val_accuracy: 0.9011\n",
      "Epoch 194/200\n",
      "23/23 [==============================] - 0s 11ms/step - loss: 0.1920 - accuracy: 0.9121 - val_loss: 0.3126 - val_accuracy: 0.8681\n",
      "Epoch 195/200\n",
      "23/23 [==============================] - 0s 11ms/step - loss: 0.1813 - accuracy: 0.9231 - val_loss: 0.3004 - val_accuracy: 0.8901\n",
      "Epoch 196/200\n",
      "23/23 [==============================] - 0s 12ms/step - loss: 0.1905 - accuracy: 0.9231 - val_loss: 0.3291 - val_accuracy: 0.8681\n",
      "Epoch 197/200\n",
      "23/23 [==============================] - 0s 12ms/step - loss: 0.2004 - accuracy: 0.9121 - val_loss: 0.3026 - val_accuracy: 0.9011\n",
      "Epoch 198/200\n",
      "23/23 [==============================] - 0s 12ms/step - loss: 0.2021 - accuracy: 0.9038 - val_loss: 0.3006 - val_accuracy: 0.8901\n",
      "Epoch 199/200\n",
      "23/23 [==============================] - 0s 16ms/step - loss: 0.1923 - accuracy: 0.9203 - val_loss: 0.3075 - val_accuracy: 0.8791\n",
      "Epoch 200/200\n",
      "23/23 [==============================] - 0s 12ms/step - loss: 0.1903 - accuracy: 0.9066 - val_loss: 0.2959 - val_accuracy: 0.8791\n"
     ]
    }
   ],
   "source": [
    "import tensorflow as tf\n",
    "from tensorflow import keras\n",
    "\n",
    "\n",
    "# Simple neuronal network\n",
    "model = keras.Sequential()\n",
    "model.add(keras.layers.Dense(64, input_shape=(\n",
    "    X_train.shape[1],), activation='relu'))\n",
    "model.add(keras.layers.Dropout(0.2))\n",
    "model.add(keras.layers.Dense(64, activation='relu'))\n",
    "model.add(keras.layers.Dropout(0.2))\n",
    "model.add(keras.layers.Dense(1, activation='sigmoid'))\n",
    "\n",
    "# Compile the model\n",
    "model.compile(optimizer='adam', loss='binary_crossentropy',\n",
    "              metrics=['accuracy'])\n",
    "\n",
    "# Create a checkpoint callback\n",
    "checkpoint_path = \"best_model\"\n",
    "checkpoint = keras.callbacks.ModelCheckpoint(\n",
    "    filepath=checkpoint_path, save_best_only=True)\n",
    "\n",
    "with tf.device('/GPU:0'): # trained on GPU\n",
    "    history = model.fit(X_train, y_train, epochs=200,\n",
    "                        batch_size=16, validation_split=0.2, callbacks=[checkpoint])\n"
   ]
  },
  {
   "cell_type": "code",
   "execution_count": 22,
   "metadata": {},
   "outputs": [
    {
     "data": {
      "image/png": "[encoded data removed]",
      "text/plain": [
       "<Figure size 432x288 with 1 Axes>"
      ]
     },
     "metadata": {
      "needs_background": "light"
     },
     "output_type": "display_data"
    }
   ],
   "source": [
    "plt.plot(history.history['accuracy'], label='train')\n",
    "plt.plot(history.history['val_accuracy'], label='test')\n",
    "plt.legend()\n",
    "plt.show()\n"
   ]
  },
  {
   "attachments": {},
   "cell_type": "markdown",
   "metadata": {},
   "source": [
    "We can see that the improvements are stabilizing, but test and train have similar accuracy, so the is no overfitting, I should try do a more complex neruonal network structure, remove dropouts maybe, and train with more epochs."
   ]
  },
  {
   "cell_type": "code",
   "execution_count": 23,
   "metadata": {},
   "outputs": [
    {
     "name": "stdout",
     "output_type": "stream",
     "text": [
      "4/4 [==============================] - 0s 4ms/step\n",
      "Accuracy: 0.956\n",
      "Recall: 0.951\n",
      "<sklearn.metrics._plot.confusion_matrix.ConfusionMatrixDisplay object at 0x0000017E89BCC340>\n"
     ]
    },
    {
     "data": {
      "image/png": "[encoded data removed]",
      "text/plain": [
       "<Figure size 432x288 with 2 Axes>"
      ]
     },
     "metadata": {
      "needs_background": "light"
     },
     "output_type": "display_data"
    }
   ],
   "source": [
    "# Evaluate the model\n",
    "model = keras.models.load_model(checkpoint_path)\n",
    "y_test = y_test.map({1: \"M\", 0: \"B\"})\n",
    "\n",
    "predictions = model.predict(X_test)\n",
    "predictions = [\"M\" if x > 0.5 else \"B\" for x in predictions]\n",
    "utils.validation(y_test, predictions)\n"
   ]
  },
  {
   "attachments": {},
   "cell_type": "markdown",
   "metadata": {},
   "source": [
    "In this case, the neuronal network is the best model, with just 2 false negatives!"
   ]
  },
  {
   "attachments": {},
   "cell_type": "markdown",
   "metadata": {},
   "source": [
    "# Ways to improve these results\n",
    "\n",
    "1. try normalization\n",
    "2. Control outliers\n",
    "3. Maybe training with sensitivity is not optimal, we could try to train with accuracy and see the results\n",
    "4. beter architecture of the neuronal network could improve the results, or more epochs at least.\n",
    "5. add more samples\n",
    "6. add more variables"
   ]
  }
 ],
 "metadata": {
  "kernelspec": {
   "display_name": "Python 3",
   "language": "python",
   "name": "python3"
  },
  "language_info": {
   "codemirror_mode": {
    "name": "ipython",
    "version": 3
   },
   "file_extension": ".py",
   "mimetype": "text/x-python",
   "name": "python",
   "nbconvert_exporter": "python",
   "pygments_lexer": "ipython3",
   "version": "3.8.3"
  },
  "orig_nbformat": 4,
  "vscode": {
   "interpreter": {
    "hash": "e88d7fb8f56852dd1ec4727317a0e35e32cf14bd2d39b933cd627d0d2f3cf176"
   }
  }
 },
 "nbformat": 4,
 "nbformat_minor": 2
}
